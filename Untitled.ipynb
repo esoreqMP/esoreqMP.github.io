{
 "cells": [
  {
   "cell_type": "code",
   "execution_count": null,
   "metadata": {},
   "outputs": [],
   "source": []
  },
  {
   "cell_type": "code",
   "execution_count": 4,
   "metadata": {},
   "outputs": [
    {
     "name": "stdout",
     "output_type": "stream",
     "text": [
      "Starting\n"
     ]
    },
    {
     "data": {
      "image/png": "[encoded data removed]",
      "text/plain": [
       "<Figure size 432x288 with 1 Axes>"
      ]
     },
     "metadata": {
      "needs_background": "light"
     },
     "output_type": "display_data"
    }
   ],
   "source": [
    "import datetime as dt\n",
    "import matplotlib.pyplot as plt\n",
    "import matplotlib.animation as animation\n",
    "from random import random\n",
    "from matplotlib import rc\n",
    "from IPython.display import HTML\n",
    "%matplotlib inline\n",
    "\n",
    "class Animate:\n",
    "\n",
    "    def __init__(self, sensor):\n",
    "        # Create figure for plotting\n",
    "        self.fig = plt.figure()\n",
    "        self.ax = self.fig.add_subplot(1, 1, 1)\n",
    "        self.xs = []\n",
    "        self.ys = []\n",
    "        self.ylabel = sensor\n",
    "        self.readings = 20\n",
    "\n",
    "    # This function is called periodically from FuncAnimation\n",
    "    def _update(self, i):\n",
    "\n",
    "        # Read temperature (Celsius) from TMP102\n",
    "        temp_c = random()\n",
    "\n",
    "        # Add x and y to lists\n",
    "        self.xs.append(dt.datetime.now().strftime('%H:%M:%S.%f'))\n",
    "        self.ys.append(temp_c)\n",
    "\n",
    "        # Limit x and y lists to 20 items\n",
    "        self.xs = self.xs[-self.readings:]\n",
    "        self.ys = self.ys[-self.readings:]\n",
    "\n",
    "        # Draw x and y lists\n",
    "        self.ax.clear()\n",
    "        self.ax.plot(self.xs, self.ys)\n",
    "\n",
    "        # Format plot\n",
    "        plt.xticks(rotation=45, ha='right')\n",
    "        plt.subplots_adjust(bottom=0.30)\n",
    "        plt.title(self.ylabel + ' over Time')\n",
    "        plt.ylabel(self.ylabel)\n",
    "\n",
    "    def start(self):\n",
    "        print('Starting')\n",
    "        # Set up plot to call animate() function periodically\n",
    "        self.anim = animation.FuncAnimation(self.fig, self._update, interval=200)\n",
    "        plt.show()\n",
    "\n",
    "\n",
    "rand = Animate('Torque')\n",
    "rand.start()"
   ]
  },
  {
   "cell_type": "code",
   "execution_count": 5,
   "metadata": {},
   "outputs": [
    {
     "data": {
      "text/plain": [
       "<Figure size 432x288 with 0 Axes>"
      ]
     },
     "metadata": {},
     "output_type": "display_data"
    },
    {
     "data": {
      "text/plain": [
       "<Figure size 432x288 with 0 Axes>"
      ]
     },
     "metadata": {},
     "output_type": "display_data"
    }
   ],
   "source": [
    "with plt.xkcd():\n",
    "\n",
    "# This figure will be in XKCD-style\n",
    "    fig1 = plt.figure()\n",
    "    # ...\n",
    "\n",
    "# This figure will be in regular style\n",
    "fig2 = plt.figure()\n",
    "plt.show()"
   ]
  },
  {
   "cell_type": "code",
   "execution_count": null,
   "metadata": {},
   "outputs": [],
   "source": []
  }
 ],
 "metadata": {
  "kernelspec": {
   "display_name": "Python 3.7.3 64-bit ('base': conda)",
   "language": "python",
   "name": "python37364bitbaseconda8d81a67f13de480f83a067fa1a0ef75a"
  },
  "language_info": {
   "codemirror_mode": {
    "name": "ipython",
    "version": 3
   },
   "file_extension": ".py",
   "mimetype": "text/x-python",
   "name": "python",
   "nbconvert_exporter": "python",
   "pygments_lexer": "ipython3",
   "version": "3.7.7"
  }
 },
 "nbformat": 4,
 "nbformat_minor": 4
}
