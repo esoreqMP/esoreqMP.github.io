{
 "cells": [
  {
   "cell_type": "markdown",
   "metadata": {},
   "source": [
    "\n",
    "\n",
    "# linear congruential generator\n",
    "- Outline \n",
    "    - [ linear congruential generator](https://en.wikipedia.org/wiki/Linear_congruential_generator) wiki page\n",
    "    - Algorithm  \n",
    "        - Create it \n",
    "        - go to the wiki page to get good numbers \n",
    "        - run with one number\n",
    "        - transform output to continues uniform [0-1] \n",
    "        - transform output to range [low-high] \n",
    "        - transform output to range of integers \n",
    "        - transform output to Bernoulli event [True or False]\n",
    "    - Create a loop to explore some of lcg parameters\n",
    "    - Create a function with all of this \n"
   ]
  },
  {
   "cell_type": "markdown",
   "metadata": {},
   "source": [
    "# Algorithm  \n",
    "\n",
    "$$ X_{n+1} = (aX_n +c) \\mod m $$\n",
    "\n",
    "Where X is the sequence of pseudorandom values, and\n",
    "\n",
    "$m, ,0 < m$   — the \"modulus\"\n",
    "$a, ,0 < a < m$  — the \"multiplier\"\n",
    "$c, ,0 \\leq a < m$ — the \"increment\"\n",
    "$X_0, ,0 \\leq X_0 < m$  — the \"seed\" or \"start value\"\n",
    "\n",
    "\n",
    "If we read on we find that \n",
    "\n",
    "- c  and m are relatively prime,\n",
    "- a−1 is divisible by all prime factors of m\n",
    "- a−1 is a multiple of 4 if m is a multiple of 4.\n",
    "\n",
    "We should choose parameters in common use\n",
    "- $m = 2^{32}$\n",
    "- $a = 1664525$\n",
    "- $c = 1013904223$\n",
    "- $seed = 42$ "
   ]
  },
  {
   "cell_type": "markdown",
   "metadata": {},
   "source": [
    "# Implement just the calculation"
   ]
  },
  {
   "cell_type": "code",
   "execution_count": 44,
   "metadata": {},
   "outputs": [
    {
     "name": "stdout",
     "output_type": "stream",
     "text": [
      "1083814273\n",
      "378494188\n"
     ]
    }
   ],
   "source": [
    "m = 2**32\n",
    "a = 1664525\n",
    "c = 1013904223\n",
    "seed = 42\n",
    "LCG = (a * seed + c) % m \n",
    "print(LCG)\n",
    "print(f'{(a * LCG + c) % m}')"
   ]
  },
  {
   "cell_type": "markdown",
   "metadata": {},
   "source": [
    "# Transform output to continues uniform [0-1] \n"
   ]
  },
  {
   "cell_type": "code",
   "execution_count": 47,
   "metadata": {},
   "outputs": [
    {
     "name": "stdout",
     "output_type": "stream",
     "text": [
      "U_0 = 0.2523451747838408\n",
      "U_1 = 0.08812504541128874\n"
     ]
    }
   ],
   "source": [
    "LCG_0 = (a * seed + c) % m \n",
    "LCG_1 = (a * LCG_0 + c) % m \n",
    "print(f'U_0 = {LCG_0/m}')\n",
    "print(f'U_1 = {LCG_1/m}')\n"
   ]
  },
  {
   "cell_type": "markdown",
   "metadata": {},
   "source": [
    "# Add range transformation  [low-high] \n"
   ]
  },
  {
   "cell_type": "code",
   "execution_count": 48,
   "metadata": {},
   "outputs": [
    {
     "name": "stdout",
     "output_type": "stream",
     "text": [
      "G_0 = -3.7662493642419577\n",
      "G_1 = 3.081936775241047\n"
     ]
    }
   ],
   "source": [
    "low = -5\n",
    "high = 9\n",
    "U_0 = (a * LCG_0 + c) % m /m\n",
    "U_1 = (a * LCG_1 + c) % m /m\n",
    "\n",
    "print(f'G_0 = {low+(high-low)*U_0}')\n",
    "print(f'G_1 = {low+(high-low)*U_1}')\n",
    "\n"
   ]
  },
  {
   "cell_type": "markdown",
   "metadata": {},
   "source": [
    "# Transform output to range of integers \n"
   ]
  },
  {
   "cell_type": "code",
   "execution_count": 49,
   "metadata": {},
   "outputs": [
    {
     "name": "stdout",
     "output_type": "stream",
     "text": [
      "G_0 = -3\n",
      "G_1 = 3\n"
     ]
    }
   ],
   "source": [
    "low = -5\n",
    "high = 9\n",
    "U_0 = (a * LCG_0 + c) % m /m\n",
    "U_1 = (a * LCG_1 + c) % m /m\n",
    "\n",
    "print(f'G_0 = {int(low+(high-low)*U_0)}')\n",
    "print(f'G_1 = {int(low+(high-low)*U_1)}')"
   ]
  },
  {
   "cell_type": "markdown",
   "metadata": {},
   "source": [
    "# Transform output to Bernoulli event [True or False]\n"
   ]
  },
  {
   "cell_type": "code",
   "execution_count": 50,
   "metadata": {},
   "outputs": [
    {
     "name": "stdout",
     "output_type": "stream",
     "text": [
      "B_0 = False\n",
      "B_1 = True\n"
     ]
    }
   ],
   "source": [
    "U_0 = (a * LCG_0 + c) % m /m\n",
    "U_1 = (a * LCG_1 + c) % m /m\n",
    "P = 0.3\n",
    "\n",
    "print(f'B_0 = {U_0>P}')\n",
    "print(f'B_1 = {U_1>P}')"
   ]
  },
  {
   "cell_type": "markdown",
   "metadata": {},
   "source": [
    "# Create a loop to generate a sequence of pseudo random numbers\n"
   ]
  },
  {
   "cell_type": "code",
   "execution_count": 60,
   "metadata": {},
   "outputs": [
    {
     "name": "stdout",
     "output_type": "stream",
     "text": [
      "0  \t 1083814273\n",
      "1  \t 378494188\n",
      "2  \t 2479403867\n",
      "3  \t 955863294\n",
      "4  \t 1613448261\n",
      "5  \t 110225632\n",
      "6  \t 1921058495\n",
      "7  \t 508781842\n",
      "8  \t 3753001289\n",
      "9  \t 4271921684\n",
      "10  \t 3664477795\n",
      "11  \t 2146095206\n",
      "12  \t 2757373069\n",
      "13  \t 3699926152\n",
      "14  \t 2561818183\n"
     ]
    }
   ],
   "source": [
    "m = 2**32\n",
    "a = 1664525\n",
    "c = 1013904223\n",
    "seed = 42\n",
    "LCG = [0]*15\n",
    "past_lcg = (a * seed + c) % m\n",
    "for i in range(0,15):\n",
    "    LCG[i] = past_lcg\n",
    "    print(f'{i}  \\t {past_lcg}')\n",
    "    past_lcg = (a * past_lcg + c) % m \n"
   ]
  },
  {
   "cell_type": "markdown",
   "metadata": {},
   "source": [
    "# Generate a sequence of continues uniform [0-1] "
   ]
  },
  {
   "cell_type": "code",
   "execution_count": 62,
   "metadata": {},
   "outputs": [
    {
     "name": "stdout",
     "output_type": "stream",
     "text": [
      "0  \t 1083814273 \t 0.2523451747838408\n",
      "1  \t 378494188 \t 0.08812504541128874\n",
      "2  \t 2479403867 \t 0.5772811982315034\n",
      "3  \t 955863294 \t 0.22255426598712802\n",
      "4  \t 1613448261 \t 0.37566019711084664\n",
      "5  \t 110225632 \t 0.02566390484571457\n",
      "6  \t 1921058495 \t 0.4472812858875841\n",
      "7  \t 508781842 \t 0.1184600037522614\n",
      "8  \t 3753001289 \t 0.8738137057516724\n",
      "9  \t 4271921684 \t 0.9946342753246427\n",
      "10  \t 3664477795 \t 0.8532027236651629\n",
      "11  \t 2146095206 \t 0.49967672815546393\n",
      "12  \t 2757373069 \t 0.6420009464491159\n",
      "13  \t 3699926152 \t 0.8614561874419451\n",
      "14  \t 2561818183 \t 0.5964697764720768\n"
     ]
    }
   ],
   "source": [
    "U = [0]*15\n",
    "past_lcg = (a * seed + c) % m\n",
    "for i in range(0,15):\n",
    "    U[i] = past_lcg/m\n",
    "    print(f'{i}  \\t {past_lcg} \\t {U[i]}')\n",
    "    past_lcg = (a * past_lcg + c) % m \n"
   ]
  },
  {
   "cell_type": "markdown",
   "metadata": {},
   "source": [
    "# Generate a sequence of uniform random numbers between a range [low-high] "
   ]
  },
  {
   "cell_type": "code",
   "execution_count": 63,
   "metadata": {},
   "outputs": [
    {
     "name": "stdout",
     "output_type": "stream",
     "text": [
      "0  \t 1083814273 \t -1.4671675530262291\n",
      "1  \t 378494188 \t -3.7662493642419577\n",
      "2  \t 2479403867 \t 3.081936775241047\n",
      "3  \t 955863294 \t -1.8842402761802077\n",
      "4  \t 1613448261 \t 0.25924275955185294\n",
      "5  \t 110225632 \t -4.640705332159996\n",
      "6  \t 1921058495 \t 1.2619380024261773\n",
      "7  \t 508781842 \t -3.3415599474683404\n",
      "8  \t 3753001289 \t 7.233391880523413\n",
      "9  \t 4271921684 \t 8.924879854544997\n",
      "10  \t 3664477795 \t 6.944838131312281\n",
      "11  \t 2146095206 \t 1.995474194176495\n",
      "12  \t 2757373069 \t 3.988013250287622\n",
      "13  \t 3699926152 \t 7.060386624187231\n",
      "14  \t 2561818183 \t 3.350576870609075\n"
     ]
    }
   ],
   "source": [
    "low = -5\n",
    "high = 9\n",
    "Ur = [0]*15\n",
    "past_lcg = (a * seed + c) % m\n",
    "for i in range(0,15):\n",
    "    Ur[i] = low+(high-low)*past_lcg/m\n",
    "    print(f'{i}  \\t {past_lcg} \\t {Ur[i]}')\n",
    "    past_lcg = (a * past_lcg + c) % m  "
   ]
  },
  {
   "cell_type": "markdown",
   "metadata": {},
   "source": [
    "# Generate a sequence of uniform random integers "
   ]
  },
  {
   "cell_type": "code",
   "execution_count": 64,
   "metadata": {},
   "outputs": [
    {
     "name": "stdout",
     "output_type": "stream",
     "text": [
      "0  \t 1083814273 \t -1\n",
      "1  \t 378494188 \t -3\n",
      "2  \t 2479403867 \t 3\n",
      "3  \t 955863294 \t -1\n",
      "4  \t 1613448261 \t 0\n",
      "5  \t 110225632 \t -4\n",
      "6  \t 1921058495 \t 1\n",
      "7  \t 508781842 \t -3\n",
      "8  \t 3753001289 \t 7\n",
      "9  \t 4271921684 \t 8\n",
      "10  \t 3664477795 \t 6\n",
      "11  \t 2146095206 \t 1\n",
      "12  \t 2757373069 \t 3\n",
      "13  \t 3699926152 \t 7\n",
      "14  \t 2561818183 \t 3\n"
     ]
    }
   ],
   "source": [
    "low = -5\n",
    "high = 9\n",
    "Ur = [0]*15\n",
    "past_lcg = (a * seed + c) % m\n",
    "for i in range(0,15):\n",
    "    Ur[i] = int(low+(high-low)*past_lcg/m)\n",
    "    print(f'{i}  \\t {past_lcg} \\t {Ur[i]}')\n",
    "    past_lcg = (a * past_lcg + c) % m  "
   ]
  },
  {
   "cell_type": "markdown",
   "metadata": {},
   "source": [
    "# How cruical is the size of the modulus?"
   ]
  },
  {
   "cell_type": "code",
   "execution_count": 70,
   "metadata": {},
   "outputs": [
    {
     "name": "stdout",
     "output_type": "stream",
     "text": [
      "         4   1\n",
      "         8   1\n",
      "        16   1\n",
      "        32   1\n",
      "        64   1\n",
      "       128   1\n",
      "       256   129\n",
      "       512   385\n",
      "      1024   385\n",
      "      2048   385\n",
      "      4096   385\n",
      "      8192   4481\n",
      "     16384   12673\n",
      "     32768   12673\n",
      "     65536   45441\n",
      "    131072   110977\n",
      "    262144   110977\n",
      "    524288   110977\n",
      "   1048576   635265\n",
      "   2097152   1683841\n",
      "   4194304   1683841\n",
      "   8388608   1683841\n",
      "  16777216   10072449\n",
      "  33554432   10072449\n",
      "  67108864   10072449\n",
      " 134217728   10072449\n",
      " 268435456   10072449\n",
      " 536870912   10072449\n",
      "1073741824   10072449\n",
      "2147483648   1083814273\n"
     ]
    }
   ],
   "source": [
    "for m in range(2,32):\n",
    "    lcg = (a * seed + c) % 2**m\n",
    "    print(f'{2**m:{10}}   {lcg}')\n"
   ]
  },
  {
   "cell_type": "markdown",
   "metadata": {},
   "source": [
    "# Let's create a function "
   ]
  },
  {
   "cell_type": "code",
   "execution_count": 77,
   "metadata": {},
   "outputs": [
    {
     "name": "stdout",
     "output_type": "stream",
     "text": [
      "0  \t 1083814273\n",
      "1  \t 378494188\n",
      "2  \t 2479403867\n",
      "3  \t 955863294\n",
      "4  \t 1613448261\n",
      "5  \t 110225632\n",
      "6  \t 1921058495\n",
      "7  \t 508781842\n",
      "8  \t 3753001289\n",
      "9  \t 4271921684\n"
     ]
    }
   ],
   "source": [
    "def lcg(m = 2**32,a = 1664525,c = 1013904223,seed = 42,size=1,verbose=False):\n",
    "    LCG = [0]*size\n",
    "    past_lcg = (a * seed + c) % m\n",
    "    for i in range(0,size):\n",
    "        LCG[i] = past_lcg\n",
    "        if verbose: print(f'{i}  \\t {past_lcg}')\n",
    "        past_lcg = (a * past_lcg + c) % m \n",
    "    return LCG\n",
    "lcg(verbose=True,size=10)"
   ]
  },
  {
   "cell_type": "markdown",
   "metadata": {},
   "source": [
    "# Let's make it less criptic "
   ]
  },
  {
   "cell_type": "code",
   "execution_count": 82,
   "metadata": {},
   "outputs": [
    {
     "name": "stdout",
     "output_type": "stream",
     "text": [
      "0  \t 1083814273\n",
      "1  \t 1083814273\n",
      "2  \t 1083814273\n",
      "3  \t 1083814273\n",
      "4  \t 1083814273\n",
      "5  \t 1083814273\n",
      "6  \t 1083814273\n",
      "7  \t 1083814273\n",
      "8  \t 1083814273\n",
      "9  \t 1083814273\n"
     ]
    }
   ],
   "source": [
    "def lcg(modulus = 2**32,multiplier = 1664525,increment = 1013904223,seed = 42,size=1,verbose=False):\n",
    "    '''\n",
    "    linear congruential generator \n",
    "    info https://en.wikipedia.org/wiki/Linear_congruential_generator\n",
    "    9/06/2020 Created by Eyal Soreq \n",
    "    \n",
    "    Input\n",
    "    =====\n",
    "    $m, ,0 < m$   — the \"modulus\"\n",
    "    $a, ,0 < a < m$  — the \"multiplier\"\n",
    "    $c, ,0 \\leq a < m$ — the \"increment\"\n",
    "    $X_0, ,0 \\leq X_0 < m$  — the \"seed\" or \"start value\"\n",
    "    '''\n",
    "    LCG = [0]*size\n",
    "    past_lcg = (multiplier * seed + increment) % modulus\n",
    "    for i in range(0,size):\n",
    "        LCG[i] = past_lcg\n",
    "        if verbose: print(f'{i}  \\t {past_lcg}')\n",
    "        past_lcg = (multiplier * seed + increment) % modulus \n",
    "    return LCG    \n",
    "lcg(verbose=True,size=10);"
   ]
  },
  {
   "cell_type": "markdown",
   "metadata": {},
   "source": [
    "# Let's generalize some outputs "
   ]
  },
  {
   "cell_type": "code",
   "execution_count": 87,
   "metadata": {},
   "outputs": [
    {
     "name": "stdout",
     "output_type": "stream",
     "text": [
      "0  \t 0.2523451747838408\n",
      "1  \t 0.08812504541128874\n",
      "2  \t 0.5772811982315034\n",
      "3  \t 0.22255426598712802\n",
      "4  \t 0.37566019711084664\n",
      "5  \t 0.02566390484571457\n",
      "6  \t 0.4472812858875841\n",
      "7  \t 0.1184600037522614\n",
      "8  \t 0.8738137057516724\n",
      "9  \t 0.9946342753246427\n",
      "10  \t 0.8532027236651629\n",
      "11  \t 0.49967672815546393\n",
      "12  \t 0.6420009464491159\n",
      "13  \t 0.8614561874419451\n",
      "14  \t 0.5964697764720768\n",
      "15  \t 0.0907501564361155\n",
      "16  \t 0.14020979800261557\n",
      "17  \t 0.950088276527822\n",
      "18  \t 0.9245554457884282\n",
      "19  \t 0.8894689562730491\n"
     ]
    }
   ],
   "source": [
    "def g_lcg(modulus = 2**32,multiplier = 1664525,increment = 1013904223,seed = 42,size=1,verbose=True,output='uniform'):\n",
    "    out = [0]*size\n",
    "    tmp = lcg(modulus = modulus,multiplier = multiplier,increment = increment,seed = seed,size=1,verbose=False)\n",
    "    for i in range(0,size):\n",
    "        if output=='uniform':\n",
    "            out[i] = tmp[0]/modulus\n",
    "        else:\n",
    "            out[i] = tmp[0]\n",
    "        tmp = lcg(modulus = modulus,multiplier = multiplier,increment = increment,seed = tmp[0],size=1,verbose=False)    \n",
    "        if verbose: print(f'{i}  \\t {out[i]}')\n",
    "    return out           \n",
    "g_lcg(size=20)"
   ]
  },
  {
   "cell_type": "markdown",
   "metadata": {},
   "source": [
    "# Let's add bernoulli event "
   ]
  },
  {
   "cell_type": "code",
   "execution_count": 88,
   "metadata": {},
   "outputs": [
    {
     "name": "stdout",
     "output_type": "stream",
     "text": [
      "0  \t False\n",
      "1  \t False\n",
      "2  \t True\n",
      "3  \t False\n",
      "4  \t False\n",
      "5  \t False\n",
      "6  \t False\n",
      "7  \t False\n",
      "8  \t True\n",
      "9  \t True\n",
      "10  \t True\n",
      "11  \t False\n",
      "12  \t True\n",
      "13  \t True\n",
      "14  \t True\n",
      "15  \t False\n",
      "16  \t False\n",
      "17  \t True\n",
      "18  \t True\n",
      "19  \t True\n"
     ]
    }
   ],
   "source": [
    "def g_lcg(modulus = 2**32\n",
    "          ,multiplier = 1664525\n",
    "          ,increment = 1013904223\n",
    "          ,seed = 42\n",
    "          ,size=1\n",
    "          ,verbose=True\n",
    "          ,output='uniform'\n",
    "          ,p=0.5):\n",
    "    out = [0]*size\n",
    "    tmp = lcg(modulus = modulus,multiplier = multiplier,increment = increment,seed = seed,size=1,verbose=False)\n",
    "    for i in range(0,size):\n",
    "        if output=='uniform':\n",
    "            out[i] = tmp[0]/modulus\n",
    "        elif output=='bernoulli':\n",
    "            out[i] = tmp[0]/modulus>p\n",
    "        else:\n",
    "            out[i] = tmp[0]\n",
    "        tmp = lcg(modulus = modulus,multiplier = multiplier,increment = increment,seed = tmp[0],size=1,verbose=False)    \n",
    "        if verbose: print(f'{i}  \\t {out[i]}')\n",
    "    return out  \n",
    "g_lcg(size=20,output=\"bernoulli\")"
   ]
  },
  {
   "cell_type": "markdown",
   "metadata": {},
   "source": [
    "# Let's add range option "
   ]
  },
  {
   "cell_type": "code",
   "execution_count": 89,
   "metadata": {},
   "outputs": [
    {
     "name": "stdout",
     "output_type": "stream",
     "text": [
      "0  \t -1.4859289512969553\n",
      "1  \t -2.4712497275322676\n",
      "2  \t 0.4636871893890202\n",
      "3  \t -1.6646744040772319\n",
      "4  \t -0.7460388173349202\n",
      "5  \t -2.8460165709257126\n",
      "6  \t -0.31631228467449546\n",
      "7  \t -2.2892399774864316\n",
      "8  \t 2.2428822345100343\n",
      "9  \t 2.967805651947856\n",
      "10  \t 2.1192163419909775\n",
      "11  \t -0.0019396310672163963\n",
      "12  \t 0.8520056786946952\n",
      "13  \t 2.1687371246516705\n",
      "14  \t 0.5788186588324606\n",
      "15  \t -2.455499061383307\n",
      "16  \t -2.1587412119843066\n",
      "17  \t 2.700529659166932\n",
      "18  \t 2.547332674730569\n",
      "19  \t 2.3368137376382947\n"
     ]
    }
   ],
   "source": [
    "def g_lcg(modulus = 2**32\n",
    "          ,multiplier = 1664525\n",
    "          ,increment = 1013904223\n",
    "          ,seed = 42\n",
    "          ,size=1\n",
    "          ,verbose=True\n",
    "          ,output='uniform'\n",
    "          ,p=0.5\n",
    "          ,high=3\n",
    "          ,low=-3):\n",
    "    out = [0]*size\n",
    "    tmp = lcg(modulus = modulus,multiplier = multiplier,increment = increment,seed = seed,size=1,verbose=False)\n",
    "    for i in range(0,size):\n",
    "        if output=='uniform':\n",
    "            out[i] = tmp[0]/modulus\n",
    "        elif output=='bernoulli':\n",
    "            out[i] = tmp[0]/modulus>p\n",
    "        elif output=='range':\n",
    "            out[i] = low+(high-low)*(tmp[0]/modulus)    \n",
    "        else:\n",
    "            out[i] = tmp[0]\n",
    "        tmp = lcg(modulus = modulus,multiplier = multiplier,increment = increment,seed = tmp[0],size=1,verbose=False)    \n",
    "        if verbose: print(f'{i}  \\t {out[i]}')\n",
    "    return out  \n",
    "g_lcg(size=20,output=\"range\")"
   ]
  },
  {
   "cell_type": "markdown",
   "metadata": {},
   "source": [
    "# Let's add randint option "
   ]
  },
  {
   "cell_type": "code",
   "execution_count": 101,
   "metadata": {},
   "outputs": [
    {
     "name": "stdout",
     "output_type": "stream",
     "text": [
      "0  \t -4\n",
      "1  \t -8\n",
      "2  \t 1\n",
      "3  \t -5\n",
      "4  \t -2\n",
      "5  \t -9\n",
      "6  \t -1\n",
      "7  \t -7\n",
      "8  \t 7\n",
      "9  \t 9\n",
      "10  \t 7\n",
      "11  \t 0\n",
      "12  \t 2\n",
      "13  \t 7\n",
      "14  \t 1\n",
      "15  \t -8\n",
      "16  \t -7\n",
      "17  \t 9\n",
      "18  \t 8\n",
      "19  \t 7\n"
     ]
    },
    {
     "data": {
      "text/plain": [
       "[-4, -8, 1, -5, -2, -9, -1, -7, 7, 9, 7, 0, 2, 7, 1, -8, -7, 9, 8, 7]"
      ]
     },
     "execution_count": 101,
     "metadata": {},
     "output_type": "execute_result"
    }
   ],
   "source": [
    "def g_lcg(modulus = 2**32\n",
    "          ,multiplier = 1664525\n",
    "          ,increment = 1013904223\n",
    "          ,seed = 42\n",
    "          ,size=1\n",
    "          ,verbose=True\n",
    "          ,output='uniform'\n",
    "          ,p=0.5\n",
    "          ,high=10\n",
    "          ,low=-10):\n",
    "    out = [0]*size\n",
    "    tmp = lcg(modulus = modulus,multiplier = multiplier,increment = increment,seed = seed,size=1,verbose=False)\n",
    "    for i in range(0,size):\n",
    "        if output=='uniform':\n",
    "            out[i] = tmp[0]/modulus\n",
    "        elif output=='bernoulli':\n",
    "            out[i] = tmp[0]/modulus>p\n",
    "        elif output=='range':\n",
    "            out[i] = low+(high-low)*(tmp[0]/modulus)\n",
    "        elif output=='randint':\n",
    "            out[i] = int(low+(high-low)*(tmp[0]/modulus))       \n",
    "        else:\n",
    "            out[i] = tmp[0]\n",
    "        tmp = lcg(modulus = modulus,multiplier = multiplier,increment = increment,seed = tmp[0],size=1,verbose=False)    \n",
    "        if verbose: print(f'{i}  \\t {out[i]}')\n",
    "    return out  \n",
    "g_lcg(size=20,output=\"randint\")"
   ]
  },
  {
   "cell_type": "markdown",
   "metadata": {},
   "source": [
    "# Let's use dictionary to make this more readable  "
   ]
  },
  {
   "cell_type": "code",
   "execution_count": 112,
   "metadata": {},
   "outputs": [
    {
     "name": "stdout",
     "output_type": "stream",
     "text": [
      "0  \t 0.2376181825529784\n",
      "0  \t 0.012281536823138595\n"
     ]
    }
   ],
   "source": [
    "def g_lcg(modulus = 2**32,multiplier = 1664525,increment = 1013904223\n",
    "          ,seed = 42,size=1,verbose=True,output='uniform'\n",
    "          ,p=0.5,high=10,low=-10):\n",
    "    out = [0]*size\n",
    "    tmp = lcg(modulus = modulus,multiplier = multiplier,increment = increment,seed = seed,size=1,verbose=False)\n",
    "    for i in range(0,size):\n",
    "        out[i] ={\n",
    "            'uniform':tmp[0]/modulus,\n",
    "            'bernoulli':tmp[0]/modulus>p,\n",
    "            'range':low+(high-low)*(tmp[0]/modulus),\n",
    "            'randint':int(low+(high-low)*(tmp[0]/modulus)),\n",
    "            'lcg':tmp[0],\n",
    "        }[output]\n",
    "        tmp = lcg(modulus = modulus,multiplier = multiplier,increment = increment,seed = tmp[0],size=1,verbose=False)    \n",
    "        if verbose: print(f'{i}  \\t {out[i]}')\n",
    "    return out  \n",
    "g_lcg(size=1,seed=4);\n"
   ]
  },
  {
   "cell_type": "markdown",
   "metadata": {},
   "source": [
    "# That's it for today \n",
    "Next week we will learn how to make things like these more efficent \n",
    "\n"
   ]
  },
  {
   "cell_type": "code",
   "execution_count": null,
   "metadata": {},
   "outputs": [],
   "source": []
  },
  {
   "cell_type": "code",
   "execution_count": null,
   "metadata": {},
   "outputs": [],
   "source": []
  },
  {
   "cell_type": "markdown",
   "metadata": {},
   "source": [
    "# Transform output to range of integers \n"
   ]
  },
  {
   "cell_type": "code",
   "execution_count": null,
   "metadata": {},
   "outputs": [],
   "source": []
  }
 ],
 "metadata": {
  "kernelspec": {
   "display_name": "Python 3.7.3 64-bit ('base': conda)",
   "language": "python",
   "name": "python37364bitbaseconda8d81a67f13de480f83a067fa1a0ef75a"
  },
  "language_info": {
   "codemirror_mode": {
    "name": "ipython",
    "version": 3
   },
   "file_extension": ".py",
   "mimetype": "text/x-python",
   "name": "python",
   "nbconvert_exporter": "python",
   "pygments_lexer": "ipython3",
   "version": "3.7.7"
  }
 },
 "nbformat": 4,
 "nbformat_minor": 4
}
